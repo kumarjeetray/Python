{
 "cells": [
  {
   "cell_type": "code",
   "execution_count": 58,
   "id": "1ac8cfe0",
   "metadata": {},
   "outputs": [],
   "source": [
    "from collections import deque"
   ]
  },
  {
   "cell_type": "code",
   "execution_count": 61,
   "id": "914b8785",
   "metadata": {},
   "outputs": [],
   "source": [
    "def calc(a):\n",
    "    dq=deque()\n",
    "    st = ''\n",
    "    for i in range(len(a)):\n",
    "        dq.append(a[i])\n",
    "    while len(dq) != 1:\n",
    "        sum = dq.popleft() + dq.popleft()\n",
    "        #print(sum)\n",
    "        if sum > 9 and len(dq)>0:\n",
    "            sum = sum % 10\n",
    "        dq.appendleft(sum)\n",
    "    if sum > 10:\n",
    "        temp = str(sum%10)\n",
    "        sum = sum //10\n",
    "        st += str(sum)\n",
    "        st += temp\n",
    "    else:\n",
    "        st += '0' + str(sum)\n",
    "    return st"
   ]
  },
  {
   "cell_type": "code",
   "execution_count": 62,
   "id": "5d094204",
   "metadata": {},
   "outputs": [
    {
     "name": "stdout",
     "output_type": "stream",
     "text": [
      "02\n"
     ]
    }
   ],
   "source": [
    "a = [8,5,9,0,9,1]\n",
    "res = calc(a)\n",
    "print(res)"
   ]
  },
  {
   "cell_type": "code",
   "execution_count": null,
   "id": "d50db85b",
   "metadata": {},
   "outputs": [],
   "source": []
  }
 ],
 "metadata": {
  "kernelspec": {
   "display_name": "Python 3 (ipykernel)",
   "language": "python",
   "name": "python3"
  },
  "language_info": {
   "codemirror_mode": {
    "name": "ipython",
    "version": 3
   },
   "file_extension": ".py",
   "mimetype": "text/x-python",
   "name": "python",
   "nbconvert_exporter": "python",
   "pygments_lexer": "ipython3",
   "version": "3.9.12"
  }
 },
 "nbformat": 4,
 "nbformat_minor": 5
}
